{
 "cells": [
  {
   "cell_type": "markdown",
   "id": "2f4d5dcb",
   "metadata": {},
   "source": [
    "================================================================================\n",
    "# Milestone 3\n",
    "**Great Expectations**\n",
    "\n",
    "Nama    : Angga Fadhlurrahman Prianto\n",
    "\n",
    "Batch   : HCK-026\n",
    "\n",
    "================================================================================"
   ]
  },
  {
   "cell_type": "markdown",
   "id": "31125986",
   "metadata": {},
   "source": [
    "## Import Libraries"
   ]
  },
  {
   "cell_type": "code",
   "execution_count": 1,
   "id": "081089ce",
   "metadata": {},
   "outputs": [],
   "source": [
    "import pandas as pd"
   ]
  },
  {
   "cell_type": "markdown",
   "id": "8544271f",
   "metadata": {},
   "source": [
    "## Data Loading"
   ]
  },
  {
   "cell_type": "code",
   "execution_count": 2,
   "id": "0508a4ac",
   "metadata": {},
   "outputs": [
    {
     "data": {
      "text/html": [
       "<div>\n",
       "<style scoped>\n",
       "    .dataframe tbody tr th:only-of-type {\n",
       "        vertical-align: middle;\n",
       "    }\n",
       "\n",
       "    .dataframe tbody tr th {\n",
       "        vertical-align: top;\n",
       "    }\n",
       "\n",
       "    .dataframe thead th {\n",
       "        text-align: right;\n",
       "    }\n",
       "</style>\n",
       "<table border=\"1\" class=\"dataframe\">\n",
       "  <thead>\n",
       "    <tr style=\"text-align: right;\">\n",
       "      <th></th>\n",
       "      <th>id</th>\n",
       "      <th>suburb</th>\n",
       "      <th>address</th>\n",
       "      <th>rooms</th>\n",
       "      <th>type</th>\n",
       "      <th>price</th>\n",
       "      <th>method</th>\n",
       "      <th>sellerg</th>\n",
       "      <th>date</th>\n",
       "      <th>postcode</th>\n",
       "      <th>regionname</th>\n",
       "      <th>propertycount</th>\n",
       "      <th>distance</th>\n",
       "      <th>councilarea</th>\n",
       "    </tr>\n",
       "  </thead>\n",
       "  <tbody>\n",
       "    <tr>\n",
       "      <th>0</th>\n",
       "      <td>1</td>\n",
       "      <td>Abbotsford</td>\n",
       "      <td>49 Lithgow St</td>\n",
       "      <td>3</td>\n",
       "      <td>h</td>\n",
       "      <td>1490000.0</td>\n",
       "      <td>S</td>\n",
       "      <td>Jellis</td>\n",
       "      <td>2017-04-01</td>\n",
       "      <td>3067</td>\n",
       "      <td>Northern Metropolitan</td>\n",
       "      <td>4019</td>\n",
       "      <td>3.0</td>\n",
       "      <td>Yarra City Council</td>\n",
       "    </tr>\n",
       "    <tr>\n",
       "      <th>1</th>\n",
       "      <td>2</td>\n",
       "      <td>Abbotsford</td>\n",
       "      <td>59A Turner St</td>\n",
       "      <td>3</td>\n",
       "      <td>h</td>\n",
       "      <td>1220000.0</td>\n",
       "      <td>S</td>\n",
       "      <td>Marshall</td>\n",
       "      <td>2017-04-01</td>\n",
       "      <td>3067</td>\n",
       "      <td>Northern Metropolitan</td>\n",
       "      <td>4019</td>\n",
       "      <td>3.0</td>\n",
       "      <td>Yarra City Council</td>\n",
       "    </tr>\n",
       "    <tr>\n",
       "      <th>2</th>\n",
       "      <td>3</td>\n",
       "      <td>Abbotsford</td>\n",
       "      <td>119B Yarra St</td>\n",
       "      <td>3</td>\n",
       "      <td>h</td>\n",
       "      <td>1420000.0</td>\n",
       "      <td>S</td>\n",
       "      <td>Nelson</td>\n",
       "      <td>2017-04-01</td>\n",
       "      <td>3067</td>\n",
       "      <td>Northern Metropolitan</td>\n",
       "      <td>4019</td>\n",
       "      <td>3.0</td>\n",
       "      <td>Yarra City Council</td>\n",
       "    </tr>\n",
       "    <tr>\n",
       "      <th>3</th>\n",
       "      <td>4</td>\n",
       "      <td>Aberfeldie</td>\n",
       "      <td>68 Vida St</td>\n",
       "      <td>3</td>\n",
       "      <td>h</td>\n",
       "      <td>1515000.0</td>\n",
       "      <td>S</td>\n",
       "      <td>Barry</td>\n",
       "      <td>2017-04-01</td>\n",
       "      <td>3040</td>\n",
       "      <td>Western Metropolitan</td>\n",
       "      <td>1543</td>\n",
       "      <td>7.5</td>\n",
       "      <td>Moonee Valley City Council</td>\n",
       "    </tr>\n",
       "    <tr>\n",
       "      <th>4</th>\n",
       "      <td>5</td>\n",
       "      <td>Airport West</td>\n",
       "      <td>92 Clydesdale Rd</td>\n",
       "      <td>2</td>\n",
       "      <td>h</td>\n",
       "      <td>670000.0</td>\n",
       "      <td>S</td>\n",
       "      <td>Nelson</td>\n",
       "      <td>2017-04-01</td>\n",
       "      <td>3042</td>\n",
       "      <td>Western Metropolitan</td>\n",
       "      <td>3464</td>\n",
       "      <td>10.4</td>\n",
       "      <td>Moonee Valley City Council</td>\n",
       "    </tr>\n",
       "  </tbody>\n",
       "</table>\n",
       "</div>"
      ],
      "text/plain": [
       "   id        suburb           address  rooms type      price method   sellerg  \\\n",
       "0   1    Abbotsford     49 Lithgow St      3    h  1490000.0      S    Jellis   \n",
       "1   2    Abbotsford     59A Turner St      3    h  1220000.0      S  Marshall   \n",
       "2   3    Abbotsford     119B Yarra St      3    h  1420000.0      S    Nelson   \n",
       "3   4    Aberfeldie        68 Vida St      3    h  1515000.0      S     Barry   \n",
       "4   5  Airport West  92 Clydesdale Rd      2    h   670000.0      S    Nelson   \n",
       "\n",
       "         date  postcode             regionname  propertycount  distance  \\\n",
       "0  2017-04-01      3067  Northern Metropolitan           4019       3.0   \n",
       "1  2017-04-01      3067  Northern Metropolitan           4019       3.0   \n",
       "2  2017-04-01      3067  Northern Metropolitan           4019       3.0   \n",
       "3  2017-04-01      3040   Western Metropolitan           1543       7.5   \n",
       "4  2017-04-01      3042   Western Metropolitan           3464      10.4   \n",
       "\n",
       "                  councilarea  \n",
       "0          Yarra City Council  \n",
       "1          Yarra City Council  \n",
       "2          Yarra City Council  \n",
       "3  Moonee Valley City Council  \n",
       "4  Moonee Valley City Council  "
      ]
     },
     "execution_count": 2,
     "metadata": {},
     "output_type": "execute_result"
    }
   ],
   "source": [
    "data = pd.read_csv(\"data\\P2M3_Angga_data_clean.csv\")\n",
    "\n",
    "data.head()"
   ]
  },
  {
   "cell_type": "markdown",
   "id": "fe19d578",
   "metadata": {},
   "source": [
    "## Create Data Context"
   ]
  },
  {
   "cell_type": "code",
   "execution_count": 3,
   "id": "5ee2e398",
   "metadata": {},
   "outputs": [],
   "source": [
    "# Create a data context\n",
    "\n",
    "from great_expectations.data_context import FileDataContext\n",
    "\n",
    "# Create default context\n",
    "# from great_expectations import get_context\n",
    "\n",
    "context = FileDataContext.create(project_root_dir='./')"
   ]
  },
  {
   "cell_type": "code",
   "execution_count": 4,
   "id": "8d862c32",
   "metadata": {},
   "outputs": [],
   "source": [
    "# create data source\n",
    "data_source = context.sources.add_pandas(name=\"pandas_data_source\")\n",
    "\n",
    "# create data asset\n",
    "path = \"data\\P2M3_Angga_data_clean.csv\"\n",
    "asset = data_source.add_csv_asset(\"top-100-videos\", filepath_or_buffer=path)\n",
    "\n",
    "# build batch request\n",
    "batch_request = asset.build_batch_request()"
   ]
  },
  {
   "cell_type": "markdown",
   "id": "a6d86de2",
   "metadata": {},
   "source": [
    "## Create an Expectation Suite"
   ]
  },
  {
   "cell_type": "code",
   "execution_count": 5,
   "id": "2e20c46f",
   "metadata": {},
   "outputs": [
    {
     "data": {
      "application/vnd.jupyter.widget-view+json": {
       "model_id": "cb762614d5414ca89df6f9e065e1d146",
       "version_major": 2,
       "version_minor": 0
      },
      "text/plain": [
       "Calculating Metrics:   0%|          | 0/1 [00:00<?, ?it/s]"
      ]
     },
     "metadata": {},
     "output_type": "display_data"
    },
    {
     "data": {
      "text/html": [
       "<div>\n",
       "<style scoped>\n",
       "    .dataframe tbody tr th:only-of-type {\n",
       "        vertical-align: middle;\n",
       "    }\n",
       "\n",
       "    .dataframe tbody tr th {\n",
       "        vertical-align: top;\n",
       "    }\n",
       "\n",
       "    .dataframe thead th {\n",
       "        text-align: right;\n",
       "    }\n",
       "</style>\n",
       "<table border=\"1\" class=\"dataframe\">\n",
       "  <thead>\n",
       "    <tr style=\"text-align: right;\">\n",
       "      <th></th>\n",
       "      <th>id</th>\n",
       "      <th>suburb</th>\n",
       "      <th>address</th>\n",
       "      <th>rooms</th>\n",
       "      <th>type</th>\n",
       "      <th>price</th>\n",
       "      <th>method</th>\n",
       "      <th>sellerg</th>\n",
       "      <th>date</th>\n",
       "      <th>postcode</th>\n",
       "      <th>regionname</th>\n",
       "      <th>propertycount</th>\n",
       "      <th>distance</th>\n",
       "      <th>councilarea</th>\n",
       "    </tr>\n",
       "  </thead>\n",
       "  <tbody>\n",
       "    <tr>\n",
       "      <th>0</th>\n",
       "      <td>1</td>\n",
       "      <td>Abbotsford</td>\n",
       "      <td>49 Lithgow St</td>\n",
       "      <td>3</td>\n",
       "      <td>h</td>\n",
       "      <td>1490000.0</td>\n",
       "      <td>S</td>\n",
       "      <td>Jellis</td>\n",
       "      <td>2017-04-01</td>\n",
       "      <td>3067</td>\n",
       "      <td>Northern Metropolitan</td>\n",
       "      <td>4019</td>\n",
       "      <td>3.0</td>\n",
       "      <td>Yarra City Council</td>\n",
       "    </tr>\n",
       "    <tr>\n",
       "      <th>1</th>\n",
       "      <td>2</td>\n",
       "      <td>Abbotsford</td>\n",
       "      <td>59A Turner St</td>\n",
       "      <td>3</td>\n",
       "      <td>h</td>\n",
       "      <td>1220000.0</td>\n",
       "      <td>S</td>\n",
       "      <td>Marshall</td>\n",
       "      <td>2017-04-01</td>\n",
       "      <td>3067</td>\n",
       "      <td>Northern Metropolitan</td>\n",
       "      <td>4019</td>\n",
       "      <td>3.0</td>\n",
       "      <td>Yarra City Council</td>\n",
       "    </tr>\n",
       "    <tr>\n",
       "      <th>2</th>\n",
       "      <td>3</td>\n",
       "      <td>Abbotsford</td>\n",
       "      <td>119B Yarra St</td>\n",
       "      <td>3</td>\n",
       "      <td>h</td>\n",
       "      <td>1420000.0</td>\n",
       "      <td>S</td>\n",
       "      <td>Nelson</td>\n",
       "      <td>2017-04-01</td>\n",
       "      <td>3067</td>\n",
       "      <td>Northern Metropolitan</td>\n",
       "      <td>4019</td>\n",
       "      <td>3.0</td>\n",
       "      <td>Yarra City Council</td>\n",
       "    </tr>\n",
       "    <tr>\n",
       "      <th>3</th>\n",
       "      <td>4</td>\n",
       "      <td>Aberfeldie</td>\n",
       "      <td>68 Vida St</td>\n",
       "      <td>3</td>\n",
       "      <td>h</td>\n",
       "      <td>1515000.0</td>\n",
       "      <td>S</td>\n",
       "      <td>Barry</td>\n",
       "      <td>2017-04-01</td>\n",
       "      <td>3040</td>\n",
       "      <td>Western Metropolitan</td>\n",
       "      <td>1543</td>\n",
       "      <td>7.5</td>\n",
       "      <td>Moonee Valley City Council</td>\n",
       "    </tr>\n",
       "    <tr>\n",
       "      <th>4</th>\n",
       "      <td>5</td>\n",
       "      <td>Airport West</td>\n",
       "      <td>92 Clydesdale Rd</td>\n",
       "      <td>2</td>\n",
       "      <td>h</td>\n",
       "      <td>670000.0</td>\n",
       "      <td>S</td>\n",
       "      <td>Nelson</td>\n",
       "      <td>2017-04-01</td>\n",
       "      <td>3042</td>\n",
       "      <td>Western Metropolitan</td>\n",
       "      <td>3464</td>\n",
       "      <td>10.4</td>\n",
       "      <td>Moonee Valley City Council</td>\n",
       "    </tr>\n",
       "  </tbody>\n",
       "</table>\n",
       "</div>"
      ],
      "text/plain": [
       "   id        suburb           address  rooms type      price method   sellerg  \\\n",
       "0   1    Abbotsford     49 Lithgow St      3    h  1490000.0      S    Jellis   \n",
       "1   2    Abbotsford     59A Turner St      3    h  1220000.0      S  Marshall   \n",
       "2   3    Abbotsford     119B Yarra St      3    h  1420000.0      S    Nelson   \n",
       "3   4    Aberfeldie        68 Vida St      3    h  1515000.0      S     Barry   \n",
       "4   5  Airport West  92 Clydesdale Rd      2    h   670000.0      S    Nelson   \n",
       "\n",
       "         date  postcode             regionname  propertycount  distance  \\\n",
       "0  2017-04-01      3067  Northern Metropolitan           4019       3.0   \n",
       "1  2017-04-01      3067  Northern Metropolitan           4019       3.0   \n",
       "2  2017-04-01      3067  Northern Metropolitan           4019       3.0   \n",
       "3  2017-04-01      3040   Western Metropolitan           1543       7.5   \n",
       "4  2017-04-01      3042   Western Metropolitan           3464      10.4   \n",
       "\n",
       "                  councilarea  \n",
       "0          Yarra City Council  \n",
       "1          Yarra City Council  \n",
       "2          Yarra City Council  \n",
       "3  Moonee Valley City Council  \n",
       "4  Moonee Valley City Council  "
      ]
     },
     "execution_count": 5,
     "metadata": {},
     "output_type": "execute_result"
    }
   ],
   "source": [
    "# Create an Expectation Suite\n",
    "context.add_or_update_expectation_suite(\"sample_validation\")\n",
    "\n",
    "# Create a validator using above expectation suite\n",
    "validator = context.get_validator(\n",
    "    batch_request = batch_request,\n",
    "    expectation_suite_name = \"sample_validation\"\n",
    ")\n",
    "\n",
    "# Check the validator\n",
    "validator.head()"
   ]
  },
  {
   "cell_type": "markdown",
   "id": "111548b1",
   "metadata": {},
   "source": [
    "## Expectation"
   ]
  },
  {
   "cell_type": "markdown",
   "id": "963410ca",
   "metadata": {},
   "source": [
    "### To Be Unique Column (id)\n",
    "Disini saya melakukan validasi dengan `Great Expectations` `To Be Unique` pada column `id`, hal ini merupakan langkah dasar yang penting untuk menjaga integritas dan kualitas data. Dengan kita memastikan bahwa setiap baris memiliki identifikasi unik, kita dapat memastikan bahwa data tetap konsisten dan siap digunakan dalam proses analisis data atau pengolahan data yang lebih mendalam lagi."
   ]
  },
  {
   "cell_type": "code",
   "execution_count": 6,
   "id": "d2918a93",
   "metadata": {},
   "outputs": [
    {
     "data": {
      "application/vnd.jupyter.widget-view+json": {
       "model_id": "698a12843a054304805936311b8ac482",
       "version_major": 2,
       "version_minor": 0
      },
      "text/plain": [
       "Calculating Metrics:   0%|          | 0/8 [00:00<?, ?it/s]"
      ]
     },
     "metadata": {},
     "output_type": "display_data"
    },
    {
     "data": {
      "text/plain": [
       "{\n",
       "  \"success\": true,\n",
       "  \"result\": {\n",
       "    \"element_count\": 63021,\n",
       "    \"unexpected_count\": 0,\n",
       "    \"unexpected_percent\": 0.0,\n",
       "    \"partial_unexpected_list\": [],\n",
       "    \"missing_count\": 0,\n",
       "    \"missing_percent\": 0.0,\n",
       "    \"unexpected_percent_total\": 0.0,\n",
       "    \"unexpected_percent_nonmissing\": 0.0\n",
       "  },\n",
       "  \"meta\": {},\n",
       "  \"exception_info\": {\n",
       "    \"raised_exception\": false,\n",
       "    \"exception_traceback\": null,\n",
       "    \"exception_message\": null\n",
       "  }\n",
       "}"
      ]
     },
     "execution_count": 6,
     "metadata": {},
     "output_type": "execute_result"
    }
   ],
   "source": [
    "validator.expect_column_values_to_be_unique('id')"
   ]
  },
  {
   "cell_type": "markdown",
   "id": "2e4bb0a7",
   "metadata": {},
   "source": [
    "### To Be Between Min_value and Max_value\n",
    "Pada validasi `to be between min_value and max_value` ini juga merupakan `validation` yang penting untuk menjaga konsistensi data dan kualitas dari data itu sendiri. Dengan saya melakukan validasi ini, saya dapat mencegah terjadinya kesalahan input data dan memastikan data yang masuk tetap realistis dan sesuai dengan standart atau requirement yang diinginkan. Dengan melakukan validasi ini saya juga menjaga data agar pada saat proses analisis atau pemodelan data dapatkan hasil yang akurat."
   ]
  },
  {
   "cell_type": "code",
   "execution_count": 7,
   "id": "49fe784e",
   "metadata": {},
   "outputs": [
    {
     "data": {
      "application/vnd.jupyter.widget-view+json": {
       "model_id": "92fee80c90bc4356936b9b98493febc1",
       "version_major": 2,
       "version_minor": 0
      },
      "text/plain": [
       "Calculating Metrics:   0%|          | 0/8 [00:00<?, ?it/s]"
      ]
     },
     "metadata": {},
     "output_type": "display_data"
    },
    {
     "data": {
      "text/plain": [
       "{\n",
       "  \"success\": true,\n",
       "  \"result\": {\n",
       "    \"element_count\": 63021,\n",
       "    \"unexpected_count\": 0,\n",
       "    \"unexpected_percent\": 0.0,\n",
       "    \"partial_unexpected_list\": [],\n",
       "    \"missing_count\": 0,\n",
       "    \"missing_percent\": 0.0,\n",
       "    \"unexpected_percent_total\": 0.0,\n",
       "    \"unexpected_percent_nonmissing\": 0.0\n",
       "  },\n",
       "  \"meta\": {},\n",
       "  \"exception_info\": {\n",
       "    \"raised_exception\": false,\n",
       "    \"exception_traceback\": null,\n",
       "    \"exception_message\": null\n",
       "  }\n",
       "}"
      ]
     },
     "execution_count": 7,
     "metadata": {},
     "output_type": "execute_result"
    }
   ],
   "source": [
    "validator.expect_column_values_to_be_between('price', min_value=10000, max_value=15000000)"
   ]
  },
  {
   "cell_type": "code",
   "execution_count": 8,
   "id": "66d61514",
   "metadata": {},
   "outputs": [
    {
     "data": {
      "application/vnd.jupyter.widget-view+json": {
       "model_id": "299b0007023b419db9eeeecd59b16c77",
       "version_major": 2,
       "version_minor": 0
      },
      "text/plain": [
       "Calculating Metrics:   0%|          | 0/8 [00:00<?, ?it/s]"
      ]
     },
     "metadata": {},
     "output_type": "display_data"
    },
    {
     "data": {
      "text/plain": [
       "{\n",
       "  \"success\": true,\n",
       "  \"result\": {\n",
       "    \"element_count\": 63021,\n",
       "    \"unexpected_count\": 0,\n",
       "    \"unexpected_percent\": 0.0,\n",
       "    \"partial_unexpected_list\": [],\n",
       "    \"missing_count\": 0,\n",
       "    \"missing_percent\": 0.0,\n",
       "    \"unexpected_percent_total\": 0.0,\n",
       "    \"unexpected_percent_nonmissing\": 0.0\n",
       "  },\n",
       "  \"meta\": {},\n",
       "  \"exception_info\": {\n",
       "    \"raised_exception\": false,\n",
       "    \"exception_traceback\": null,\n",
       "    \"exception_message\": null\n",
       "  }\n",
       "}"
      ]
     },
     "execution_count": 8,
     "metadata": {},
     "output_type": "execute_result"
    }
   ],
   "source": [
    "validator.expect_column_values_to_be_between('rooms', min_value=1, max_value=35)"
   ]
  },
  {
   "cell_type": "markdown",
   "id": "0836d1a8",
   "metadata": {},
   "source": [
    "### To Be In Set\n",
    "Pada proses validasi `To Be In Set` dapat digunakan dalam beberapa hal, seperti berguna untuk memvalidasi data tetap terstruktur sesuai dengan kategory yang relevan, data yang konsisten dan memastikan data dari kesalahan input atau nilai yang tidak valid, dan yang terakhir memastikan data kita relevan dan sesuai dengan requirement atau standart bisnis yang telah ditentukan. Maka dengan melakukan validasi ini saya memastikan bahwa data yang digunakan dalam analisis atau pengolahan lebih lanjut memiliki kualitas yang tingg dan dapat dipercaya."
   ]
  },
  {
   "cell_type": "code",
   "execution_count": 9,
   "id": "4d855c22",
   "metadata": {},
   "outputs": [
    {
     "data": {
      "application/vnd.jupyter.widget-view+json": {
       "model_id": "33d0c04615a142aab7c6a7d0265b96d2",
       "version_major": 2,
       "version_minor": 0
      },
      "text/plain": [
       "Calculating Metrics:   0%|          | 0/8 [00:00<?, ?it/s]"
      ]
     },
     "metadata": {},
     "output_type": "display_data"
    },
    {
     "data": {
      "text/plain": [
       "{\n",
       "  \"success\": true,\n",
       "  \"result\": {\n",
       "    \"element_count\": 63021,\n",
       "    \"unexpected_count\": 0,\n",
       "    \"unexpected_percent\": 0.0,\n",
       "    \"partial_unexpected_list\": [],\n",
       "    \"missing_count\": 0,\n",
       "    \"missing_percent\": 0.0,\n",
       "    \"unexpected_percent_total\": 0.0,\n",
       "    \"unexpected_percent_nonmissing\": 0.0\n",
       "  },\n",
       "  \"meta\": {},\n",
       "  \"exception_info\": {\n",
       "    \"raised_exception\": false,\n",
       "    \"exception_traceback\": null,\n",
       "    \"exception_message\": null\n",
       "  }\n",
       "}"
      ]
     },
     "execution_count": 9,
     "metadata": {},
     "output_type": "execute_result"
    }
   ],
   "source": [
    "validator.expect_column_values_to_be_in_set('type', ['h', 'u', 't'])"
   ]
  },
  {
   "cell_type": "markdown",
   "id": "89dc7a7d",
   "metadata": {},
   "source": [
    "### To Be In Type List\n",
    "Proses ini penting dilakukan untuk memastikan data memiliki tipe data yang sesuai."
   ]
  },
  {
   "cell_type": "code",
   "execution_count": 10,
   "id": "260245c7",
   "metadata": {},
   "outputs": [
    {
     "data": {
      "application/vnd.jupyter.widget-view+json": {
       "model_id": "f7edf3b83b0942d38961920231a84346",
       "version_major": 2,
       "version_minor": 0
      },
      "text/plain": [
       "Calculating Metrics:   0%|          | 0/1 [00:00<?, ?it/s]"
      ]
     },
     "metadata": {},
     "output_type": "display_data"
    },
    {
     "data": {
      "text/plain": [
       "{\n",
       "  \"success\": true,\n",
       "  \"result\": {\n",
       "    \"observed_value\": \"float64\"\n",
       "  },\n",
       "  \"meta\": {},\n",
       "  \"exception_info\": {\n",
       "    \"raised_exception\": false,\n",
       "    \"exception_traceback\": null,\n",
       "    \"exception_message\": null\n",
       "  }\n",
       "}"
      ]
     },
     "execution_count": 10,
     "metadata": {},
     "output_type": "execute_result"
    }
   ],
   "source": [
    "validator.expect_column_values_to_be_in_type_list('price', ['integer', 'float'])"
   ]
  },
  {
   "cell_type": "code",
   "execution_count": 11,
   "id": "242ced9e",
   "metadata": {},
   "outputs": [
    {
     "data": {
      "application/vnd.jupyter.widget-view+json": {
       "model_id": "8a2008e269874555b79e77fded4b8445",
       "version_major": 2,
       "version_minor": 0
      },
      "text/plain": [
       "Calculating Metrics:   0%|          | 0/1 [00:00<?, ?it/s]"
      ]
     },
     "metadata": {},
     "output_type": "display_data"
    },
    {
     "data": {
      "text/plain": [
       "{\n",
       "  \"success\": true,\n",
       "  \"result\": {\n",
       "    \"observed_value\": \"float64\"\n",
       "  },\n",
       "  \"meta\": {},\n",
       "  \"exception_info\": {\n",
       "    \"raised_exception\": false,\n",
       "    \"exception_traceback\": null,\n",
       "    \"exception_message\": null\n",
       "  }\n",
       "}"
      ]
     },
     "execution_count": 11,
     "metadata": {},
     "output_type": "execute_result"
    }
   ],
   "source": [
    "validator.expect_column_values_to_be_in_type_list('distance', ['integer', 'float'])"
   ]
  },
  {
   "cell_type": "markdown",
   "id": "f0c25023",
   "metadata": {},
   "source": [
    "### To Be Not Null\n",
    "Alasan saya melakukan validasi ini adalah untuk memastikan bahwa setiap column pada dataset saya tidak terdapat data yang kosong atau missing, hal ini sangat perlu dilakukan agar pada saat pengolahan dataset nanti nya akurat dan dapat dipercaya."
   ]
  },
  {
   "cell_type": "code",
   "execution_count": 12,
   "id": "acd9ae72",
   "metadata": {},
   "outputs": [
    {
     "data": {
      "application/vnd.jupyter.widget-view+json": {
       "model_id": "fa03c30673f6481ea3745e41cfc97cf2",
       "version_major": 2,
       "version_minor": 0
      },
      "text/plain": [
       "Calculating Metrics:   0%|          | 0/6 [00:00<?, ?it/s]"
      ]
     },
     "metadata": {},
     "output_type": "display_data"
    },
    {
     "data": {
      "text/plain": [
       "{\n",
       "  \"success\": true,\n",
       "  \"result\": {\n",
       "    \"element_count\": 63021,\n",
       "    \"unexpected_count\": 0,\n",
       "    \"unexpected_percent\": 0.0,\n",
       "    \"partial_unexpected_list\": []\n",
       "  },\n",
       "  \"meta\": {},\n",
       "  \"exception_info\": {\n",
       "    \"raised_exception\": false,\n",
       "    \"exception_traceback\": null,\n",
       "    \"exception_message\": null\n",
       "  }\n",
       "}"
      ]
     },
     "execution_count": 12,
     "metadata": {},
     "output_type": "execute_result"
    }
   ],
   "source": [
    "validator.expect_column_values_to_not_be_null('suburb')"
   ]
  },
  {
   "cell_type": "code",
   "execution_count": 13,
   "id": "68782ec6",
   "metadata": {},
   "outputs": [
    {
     "data": {
      "application/vnd.jupyter.widget-view+json": {
       "model_id": "b72cf55732d04133959025be8eb84e0d",
       "version_major": 2,
       "version_minor": 0
      },
      "text/plain": [
       "Calculating Metrics:   0%|          | 0/6 [00:00<?, ?it/s]"
      ]
     },
     "metadata": {},
     "output_type": "display_data"
    },
    {
     "data": {
      "text/plain": [
       "{\n",
       "  \"success\": true,\n",
       "  \"result\": {\n",
       "    \"element_count\": 63021,\n",
       "    \"unexpected_count\": 0,\n",
       "    \"unexpected_percent\": 0.0,\n",
       "    \"partial_unexpected_list\": []\n",
       "  },\n",
       "  \"meta\": {},\n",
       "  \"exception_info\": {\n",
       "    \"raised_exception\": false,\n",
       "    \"exception_traceback\": null,\n",
       "    \"exception_message\": null\n",
       "  }\n",
       "}"
      ]
     },
     "execution_count": 13,
     "metadata": {},
     "output_type": "execute_result"
    }
   ],
   "source": [
    "validator.expect_column_values_to_not_be_null('price')"
   ]
  },
  {
   "cell_type": "markdown",
   "id": "02afa53d",
   "metadata": {},
   "source": [
    "### To Be Median Between\n",
    "Alasan saya melakukan validasi ini terdapat beberapa faktor utama yaitu :\n",
    "* untuk menjaga distribusi data disetiap column nya seimbang.\n",
    "* untuk mendeteksi terjadinya anomali global pada dataset.\n",
    "\n",
    "dari kedua faktor ini sangat mempengaruhi proses analisis data atau pada saat melakukan proses modeling pada data, maka dari itu saya melakukan `great expectations` ini."
   ]
  },
  {
   "cell_type": "code",
   "execution_count": 14,
   "id": "7b3f15ff",
   "metadata": {},
   "outputs": [
    {
     "data": {
      "application/vnd.jupyter.widget-view+json": {
       "model_id": "b42d090464194ff19230bad0e8c69c45",
       "version_major": 2,
       "version_minor": 0
      },
      "text/plain": [
       "Calculating Metrics:   0%|          | 0/4 [00:00<?, ?it/s]"
      ]
     },
     "metadata": {},
     "output_type": "display_data"
    },
    {
     "data": {
      "text/plain": [
       "{\n",
       "  \"success\": true,\n",
       "  \"result\": {\n",
       "    \"observed_value\": 830000.0\n",
       "  },\n",
       "  \"meta\": {},\n",
       "  \"exception_info\": {\n",
       "    \"raised_exception\": false,\n",
       "    \"exception_traceback\": null,\n",
       "    \"exception_message\": null\n",
       "  }\n",
       "}"
      ]
     },
     "execution_count": 14,
     "metadata": {},
     "output_type": "execute_result"
    }
   ],
   "source": [
    "validator.Expect_Column_Median_To_Be_Between(column=\"price\", min_value=10000, max_value=15000000)"
   ]
  },
  {
   "cell_type": "markdown",
   "id": "35bdcbb0",
   "metadata": {},
   "source": [
    "### Distinct Values To Contain Set\n",
    "Alasan saya melakukan validation ini yaitu, dapat digunakan untuk memastikan bahwa kolom tertentu selalu mengandung nilai-nilai yang diharapkan ada atau bahkan jika beberapa nilai lain juga diperbolehkan. Ini sangat berguna dalam konteks kontrol kualitas data kategori."
   ]
  },
  {
   "cell_type": "code",
   "execution_count": 15,
   "id": "54f67aad",
   "metadata": {},
   "outputs": [
    {
     "data": {
      "application/vnd.jupyter.widget-view+json": {
       "model_id": "10f339a1d2a7459da8adc8ba50aec136",
       "version_major": 2,
       "version_minor": 0
      },
      "text/plain": [
       "Calculating Metrics:   0%|          | 0/4 [00:00<?, ?it/s]"
      ]
     },
     "metadata": {},
     "output_type": "display_data"
    },
    {
     "data": {
      "text/plain": [
       "{\n",
       "  \"success\": true,\n",
       "  \"result\": {\n",
       "    \"observed_value\": [\n",
       "      1,\n",
       "      2,\n",
       "      3,\n",
       "      4,\n",
       "      5,\n",
       "      6,\n",
       "      7,\n",
       "      8,\n",
       "      9,\n",
       "      10,\n",
       "      11,\n",
       "      12,\n",
       "      16,\n",
       "      31\n",
       "    ],\n",
       "    \"details\": {\n",
       "      \"value_counts\": [\n",
       "        {\n",
       "          \"value\": 1,\n",
       "          \"count\": 2111\n",
       "        },\n",
       "        {\n",
       "          \"value\": 2,\n",
       "          \"count\": 13247\n",
       "        },\n",
       "        {\n",
       "          \"value\": 3,\n",
       "          \"count\": 27949\n",
       "        },\n",
       "        {\n",
       "          \"value\": 4,\n",
       "          \"count\": 15747\n",
       "        },\n",
       "        {\n",
       "          \"value\": 5,\n",
       "          \"count\": 3434\n",
       "        },\n",
       "        {\n",
       "          \"value\": 6,\n",
       "          \"count\": 424\n",
       "        },\n",
       "        {\n",
       "          \"value\": 7,\n",
       "          \"count\": 61\n",
       "        },\n",
       "        {\n",
       "          \"value\": 8,\n",
       "          \"count\": 29\n",
       "        },\n",
       "        {\n",
       "          \"value\": 9,\n",
       "          \"count\": 5\n",
       "        },\n",
       "        {\n",
       "          \"value\": 10,\n",
       "          \"count\": 7\n",
       "        },\n",
       "        {\n",
       "          \"value\": 11,\n",
       "          \"count\": 1\n",
       "        },\n",
       "        {\n",
       "          \"value\": 12,\n",
       "          \"count\": 4\n",
       "        },\n",
       "        {\n",
       "          \"value\": 16,\n",
       "          \"count\": 1\n",
       "        },\n",
       "        {\n",
       "          \"value\": 31,\n",
       "          \"count\": 1\n",
       "        }\n",
       "      ]\n",
       "    }\n",
       "  },\n",
       "  \"meta\": {},\n",
       "  \"exception_info\": {\n",
       "    \"raised_exception\": false,\n",
       "    \"exception_traceback\": null,\n",
       "    \"exception_message\": null\n",
       "  }\n",
       "}"
      ]
     },
     "execution_count": 15,
     "metadata": {},
     "output_type": "execute_result"
    }
   ],
   "source": [
    "validator.Expect_Column_Distinct_Values_To_Contain_Set(\n",
    "    column=\"rooms\",\n",
    "    value_set=[1, 4]\n",
    ")"
   ]
  }
 ],
 "metadata": {
  "kernelspec": {
   "display_name": "tensorflow",
   "language": "python",
   "name": "python3"
  },
  "language_info": {
   "codemirror_mode": {
    "name": "ipython",
    "version": 3
   },
   "file_extension": ".py",
   "mimetype": "text/x-python",
   "name": "python",
   "nbconvert_exporter": "python",
   "pygments_lexer": "ipython3",
   "version": "3.9.21"
  }
 },
 "nbformat": 4,
 "nbformat_minor": 5
}
